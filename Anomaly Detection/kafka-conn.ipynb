{
 "cells": [
  {
   "cell_type": "code",
   "execution_count": 5,
   "id": "7addc917",
   "metadata": {},
   "outputs": [],
   "source": [
    "import pandas as pd\n",
    "from kafka import KafkaProducer\n",
    "from json import dumps\n",
    "from json import loads\n",
    "from datetime import datetime\n",
    "from time import sleep\n",
    "from csv import DictReader\n",
    "import random"
   ]
  },
  {
   "cell_type": "code",
   "execution_count": 6,
   "id": "5de4f6d0",
   "metadata": {},
   "outputs": [],
   "source": [
    "producer = KafkaProducer(\n",
    "                        bootstrap_servers = ['localhost:9092'],\n",
    "                        api_version = (3,3,1) , \n",
    "                        value_serializer = lambda x:dumps(x).encode('utf-8')\n",
    "                        )"
   ]
  },
  {
   "cell_type": "code",
   "execution_count": 7,
   "id": "3e2b2a57",
   "metadata": {},
   "outputs": [],
   "source": [
    "with open('/Users/kartikaggarwal/Documents/UML/PROJECT/archive/realAWSCloudwatch/realAWSCloudwatch/ec2_cpu_utilization_53ea38.csv', 'r', encoding = \"utf-8-sig\") as read_obj:\n",
    "    csv_dict_reader = DictReader(read_obj)\n",
    "    for row in csv_dict_reader:\n",
    "        producer.send('ec2', value=row)"
   ]
  },
  {
   "cell_type": "code",
   "execution_count": null,
   "id": "c0c840f8",
   "metadata": {},
   "outputs": [],
   "source": []
  }
 ],
 "metadata": {
  "kernelspec": {
   "display_name": "Python 3",
   "language": "python",
   "name": "python3"
  },
  "language_info": {
   "codemirror_mode": {
    "name": "ipython",
    "version": 3
   },
   "file_extension": ".py",
   "mimetype": "text/x-python",
   "name": "python",
   "nbconvert_exporter": "python",
   "pygments_lexer": "ipython3",
   "version": "3.8.8"
  }
 },
 "nbformat": 4,
 "nbformat_minor": 5
}
